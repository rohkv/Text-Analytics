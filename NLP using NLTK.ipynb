{
 "cells": [
  {
   "cell_type": "code",
   "execution_count": 2,
   "id": "23e3ff30",
   "metadata": {},
   "outputs": [
    {
     "name": "stdout",
     "output_type": "stream",
     "text": [
      "showing info https://raw.githubusercontent.com/nltk/nltk_data/gh-pages/index.xml\n"
     ]
    },
    {
     "name": "stderr",
     "output_type": "stream",
     "text": [
      "[nltk_data] Downloading package punkt to\n",
      "[nltk_data]     /Users/rohanverma/nltk_data...\n",
      "[nltk_data]   Package punkt is already up-to-date!\n"
     ]
    },
    {
     "data": {
      "text/plain": [
       "True"
      ]
     },
     "execution_count": 2,
     "metadata": {},
     "output_type": "execute_result"
    }
   ],
   "source": [
    "import nltk\n",
    "nltk.download()\n",
    "nltk.download('punkt')"
   ]
  },
  {
   "cell_type": "code",
   "execution_count": 25,
   "id": "60a776c4",
   "metadata": {},
   "outputs": [],
   "source": [
    "paragraph = \"\"\"I have three visions for India.\n",
    "In 3000 years of our history, people from allover the world have come and invaded us, captured our lands, conquered our minds. \n",
    "From Alexander onwards, The Greeks, the Portuguese, the British, the French, the Dutch, all of them came and looted us, took over what was ours. \n",
    "Yet we have not done this to any other nation. \n",
    "We have not conquered anyone. We have not grabbed their land, their culture, their history tried to enforce our way of life on them. \n",
    "Why? Because we respect the freedom of others.\n",
    "That is why my first vision is that of freedom.\n",
    "I believe that India got its first vision of this in 1857, when we started the war of independence. \n",
    "It is this freedom that we must protect and nurture and built on. If we are not free, no one will respect us.\n",
    "My second vision for India is development.\n",
    "For fifty years we have been a developing nation. It is time we see ourselves as a developed nation. \n",
    "We are among top 5 nations of the world in terms of GDP. We have 10 percent growth rate in most areas. \n",
    "Our poverty levels are falling, our achievements are being globally recognized today. \n",
    "Yet we lack the self-confidence to see ourselves as a developed nation, self reliant and self assured. \n",
    "Isn't this right?\n",
    "I have a third vision. The India must stand up to the world. \n",
    "Because I believe that unless India stands up to the world, no one will respect us. Only strength respects strength. \n",
    "We must be strong not only as a military power but also as an economic power. Both must go hand-in-hand.\n",
    "My good fortune was to have work with three great minds. \n",
    "Dr Vikram Sarabhai of the Dept. of space, Professor Satish Dhawan, who succeeded him, and Dr.Brahm Prakash, \n",
    "father of nuclear material. I was lucky to have worked with all three of them closely and consider this the great opportunity of my life.\n",
    "I see four milestones in my career\"\"\""
   ]
  },
  {
   "cell_type": "code",
   "execution_count": 35,
   "id": "07253ab9",
   "metadata": {},
   "outputs": [],
   "source": [
    "sentences = nltk.sent_tokenize(Paragraph)"
   ]
  },
  {
   "cell_type": "code",
   "execution_count": 36,
   "id": "197daf46",
   "metadata": {},
   "outputs": [],
   "source": [
    "words = nltk.word_tokenize(Paragraph)"
   ]
  },
  {
   "cell_type": "markdown",
   "id": "032752d0",
   "metadata": {},
   "source": [
    "### Stemming"
   ]
  },
  {
   "cell_type": "code",
   "execution_count": 14,
   "id": "95eb6d18",
   "metadata": {},
   "outputs": [],
   "source": [
    "from nltk.stem import PorterStemmer\n",
    "from nltk.corpus import stopwords"
   ]
  },
  {
   "cell_type": "code",
   "execution_count": 15,
   "id": "823bbb60",
   "metadata": {},
   "outputs": [],
   "source": [
    "stemmer = PorterStemmer()"
   ]
  },
  {
   "cell_type": "code",
   "execution_count": 18,
   "id": "af3f55d2",
   "metadata": {},
   "outputs": [],
   "source": [
    "for i in range (len(sentences)):\n",
    "    words = nltk.word_tokenize(sentences[i])\n",
    "    words = [stemmer.stem(word) for word in words if word not in (stopwords.words('english'))]\n",
    "    sentences[i] = ' '.join(words)"
   ]
  },
  {
   "cell_type": "code",
   "execution_count": 19,
   "id": "0e8958b0",
   "metadata": {
    "scrolled": true
   },
   "outputs": [
    {
     "data": {
      "text/plain": [
       "['three vision india .',\n",
       " '3000 year histori , peopl allov world come invad us , captur land , conquer mind .',\n",
       " 'alexand onward , greek , portugu , british , french , dutch , came loot us , took wa .',\n",
       " 'yet done thi ani nation .',\n",
       " 'conquer anyon .',\n",
       " 'grab land , cultur , histori tri enforc way life .',\n",
       " 'whi ?',\n",
       " 'becau respect freedom .',\n",
       " 'whi first vision freedom .',\n",
       " 'believ india got first vision thi 1857 , start war independ .',\n",
       " 'thi freedom must protect nurtur built .',\n",
       " 'free , one respect us .',\n",
       " 'second vision india develop .',\n",
       " 'fifti year develop nation .',\n",
       " 'time see ourselv develop nation .',\n",
       " 'among top 5 nation world term gdp .',\n",
       " '10 percent growth rate area .',\n",
       " 'poverti level fall , achiev global recogn today .',\n",
       " 'yet lack self-confid see ourselv develop nation , self reliant self assur .',\n",
       " \"n't thi right ?\",\n",
       " 'third vision .',\n",
       " 'india must stand world .',\n",
       " 'becau believ unless india stand world , one respect us .',\n",
       " 'onli strength respect strength .',\n",
       " 'must strong onli militari power also econom power .',\n",
       " 'must go hand-in-hand .',\n",
       " 'good fortun wa work three great mind .',\n",
       " 'dr vikram sarabhai dept .',\n",
       " 'space , professor satish dhawan , succeed , dr.brahm prakash , father nuclear materi .',\n",
       " 'wa lucki work three close consid thi great opportun life .',\n",
       " 'see four mileston career']"
      ]
     },
     "execution_count": 19,
     "metadata": {},
     "output_type": "execute_result"
    }
   ],
   "source": [
    "sentences"
   ]
  },
  {
   "cell_type": "markdown",
   "id": "9690ccb0",
   "metadata": {},
   "source": [
    "### Lemmatization"
   ]
  },
  {
   "cell_type": "code",
   "execution_count": 37,
   "id": "e45e4ed0",
   "metadata": {},
   "outputs": [],
   "source": [
    "from nltk.stem import WordNetLemmatizer"
   ]
  },
  {
   "cell_type": "code",
   "execution_count": 38,
   "id": "4810a8c6",
   "metadata": {},
   "outputs": [],
   "source": [
    "sentences = nltk.sent_tokenize(paragraph)\n",
    "lemmatizer = WordNetLemmatizer()"
   ]
  },
  {
   "cell_type": "code",
   "execution_count": 39,
   "id": "c6517a28",
   "metadata": {},
   "outputs": [],
   "source": [
    "for i in range(len(sentences)):\n",
    "    words = nltk.word_tokenize(sentences[i])\n",
    "    words = [lemmatizer.lemmatize(word) for word in words if word not in set(stopwords.words('english'))]\n",
    "    sentences[i] = ' '.join(words)"
   ]
  },
  {
   "cell_type": "code",
   "execution_count": 40,
   "id": "51108703",
   "metadata": {},
   "outputs": [
    {
     "name": "stdout",
     "output_type": "stream",
     "text": [
      "['I three vision India .', 'In 3000 year history , people allover world come invaded u , captured land , conquered mind .', 'From Alexander onwards , The Greeks , Portuguese , British , French , Dutch , came looted u , took .', 'Yet done nation .', 'We conquered anyone .', 'We grabbed land , culture , history tried enforce way life .', 'Why ?', 'Because respect freedom others .', 'That first vision freedom .', 'I believe India got first vision 1857 , started war independence .', 'It freedom must protect nurture built .', 'If free , one respect u .', 'My second vision India development .', 'For fifty year developing nation .', 'It time see developed nation .', 'We among top 5 nation world term GDP .', 'We 10 percent growth rate area .', 'Our poverty level falling , achievement globally recognized today .', 'Yet lack self-confidence see developed nation , self reliant self assured .', \"Is n't right ?\", 'I third vision .', 'The India must stand world .', 'Because I believe unless India stand world , one respect u .', 'Only strength respect strength .', 'We must strong military power also economic power .', 'Both must go hand-in-hand .', 'My good fortune work three great mind .', 'Dr Vikram Sarabhai Dept .', 'space , Professor Satish Dhawan , succeeded , Dr.Brahm Prakash , father nuclear material .', 'I lucky worked three closely consider great opportunity life .', 'I see four milestone career']\n"
     ]
    }
   ],
   "source": [
    "print(sentences)"
   ]
  },
  {
   "cell_type": "markdown",
   "id": "c74a437e",
   "metadata": {},
   "source": [
    " "
   ]
  },
  {
   "cell_type": "markdown",
   "id": "60becee6",
   "metadata": {},
   "source": [
    "### Bag of Words"
   ]
  },
  {
   "cell_type": "code",
   "execution_count": 43,
   "id": "c817d124",
   "metadata": {},
   "outputs": [],
   "source": [
    "# Cleaning the texts\n",
    "\n",
    "import re\n",
    "from nltk.corpus import stopwords\n",
    "from nltk.stem import WordNetLemmatizer\n",
    "from nltk.stem.porter import PorterStemmer"
   ]
  },
  {
   "cell_type": "code",
   "execution_count": 44,
   "id": "788a4377",
   "metadata": {},
   "outputs": [],
   "source": [
    "ps = PorterStemmer()\n",
    "wordnet = WordNetLemmatizer()    # Wordnet lemmatizer object\n",
    "sentences = nltk.sent_tokenize(paragraph)\n",
    "corpus = []\n"
   ]
  },
  {
   "cell_type": "code",
   "execution_count": 45,
   "id": "6f3ee75f",
   "metadata": {},
   "outputs": [],
   "source": [
    "# using stemming create a corpus\n",
    "for i in range(len(sentences)):\n",
    "    review = re.sub('[^a-zA-Z]', ' ', sentences[i])  # substituting using regurlar expression library - replace all except ^ a-z and A_Z with space, applying it to each and every sentence[i]\n",
    "    review = review.lower()    # lowering the case of all words in the sentences\n",
    "    review = review.split()    # after splitting, review will now have a list of words\n",
    "    review = [ps.stem(word) for word in review if not word in set(stopwords.words('english'))]   # list comprehension using porter stemmer (stemming) and if word not in stopwords\n",
    "    review = ' '.join(review)   #   joining all words in review\n",
    "    corpus.append(review)       # add all words in review to list of Corpus \n",
    "    \n",
    "    "
   ]
  },
  {
   "cell_type": "code",
   "execution_count": 46,
   "id": "0239d312",
   "metadata": {},
   "outputs": [],
   "source": [
    "# using lemmatization create a corpus\n",
    "\n",
    "for i in range(len(sentences)):\n",
    "    review = re.sub('[^a-zA-Z]', ' ', sentences[i])  # substituting using regurlar expression library - replace all except ^ a-z and A_Z with space, applying it to each and every sentence[i]\n",
    "    review = review.lower()    # lowering the case of all words in the sentences\n",
    "    review = review.split()    # after splitting, review will now have a list of words\n",
    "    review = [wordnet.lemmatize(word) for word in review if not word in set(stopwords.words('english'))]   # list comprehension using wordnet (lemmatizing) and if word not in stopwords\n",
    "    review = ' '.join(review)   #   joining all words in review\n",
    "    corpus.append(review)       # add all words in review to list of Corpus \n",
    "    "
   ]
  },
  {
   "cell_type": "code",
   "execution_count": 48,
   "id": "0603d81c",
   "metadata": {},
   "outputs": [],
   "source": [
    "# creating the bag of words\n",
    "\n",
    "from sklearn.feature_extraction.text import CountVectorizer\n",
    "cv = CountVectorizer()\n",
    "X = cv.fit_transform(corpus).toarray()"
   ]
  },
  {
   "cell_type": "code",
   "execution_count": 49,
   "id": "bacbc6d7",
   "metadata": {},
   "outputs": [
    {
     "data": {
      "text/plain": [
       "array([[0, 0, 0, ..., 0, 0, 0],\n",
       "       [0, 0, 0, ..., 1, 1, 0],\n",
       "       [0, 0, 1, ..., 0, 0, 0],\n",
       "       ...,\n",
       "       [0, 0, 0, ..., 0, 0, 0],\n",
       "       [0, 0, 0, ..., 0, 0, 0],\n",
       "       [0, 0, 0, ..., 0, 0, 0]])"
      ]
     },
     "execution_count": 49,
     "metadata": {},
     "output_type": "execute_result"
    }
   ],
   "source": [
    "X"
   ]
  },
  {
   "cell_type": "code",
   "execution_count": 52,
   "id": "95e08249",
   "metadata": {},
   "outputs": [
    {
     "data": {
      "text/plain": [
       "(62, 154)"
      ]
     },
     "execution_count": 52,
     "metadata": {},
     "output_type": "execute_result"
    }
   ],
   "source": [
    "X.shape"
   ]
  },
  {
   "cell_type": "markdown",
   "id": "2a760ae6",
   "metadata": {},
   "source": [
    " "
   ]
  },
  {
   "cell_type": "markdown",
   "id": "96526be5",
   "metadata": {},
   "source": [
    "### TF-IDF "
   ]
  },
  {
   "cell_type": "code",
   "execution_count": 55,
   "id": "08de1eb9",
   "metadata": {},
   "outputs": [],
   "source": [
    "# Term frequency (TF) = Number of repititions of words in a sentence/ Number of words in entence"
   ]
  },
  {
   "cell_type": "code",
   "execution_count": 54,
   "id": "6c584622",
   "metadata": {},
   "outputs": [],
   "source": [
    "# Inverse Document Frequency (IDF) = log(number of sentences/number of sentences containing words)"
   ]
  },
  {
   "cell_type": "code",
   "execution_count": 57,
   "id": "4d341e2c",
   "metadata": {},
   "outputs": [],
   "source": [
    "# Cleaning the texts\n",
    "\n",
    "import re\n",
    "from nltk.corpus import stopwords\n",
    "from nltk.stem import WordNetLemmatizer\n",
    "\n",
    "wordnet = WordNetLemmatizer()\n",
    "sentences = nltk.sent_tokenize(paragraph)\n",
    "corpustf = []\n",
    "\n",
    "for i in range(len(sentences)):\n",
    "    review = re.sub('[^a-zA-Z]', ' ', sentences[i])  # substituting using regurlar expression library - replace all except ^ a-z and A_Z with space, applying it to each and every sentence[i]\n",
    "    review = review.lower()    # lowering the case of all words in the sentences\n",
    "    review = review.split()    # after splitting, review will now have a list of words\n",
    "    review = [wordnet.lemmatize(word) for word in review if not word in set(stopwords.words('english'))]   # list comprehension using wordnet (lemmatizing) and if word not in stopwords\n",
    "    review = ' '.join(review)   #   joining all words in review\n",
    "    corpustf.append(review)       # add all words in review to list of Corpus "
   ]
  },
  {
   "cell_type": "code",
   "execution_count": 58,
   "id": "b705ee9b",
   "metadata": {},
   "outputs": [],
   "source": [
    "# Creating the TF-IDF\n",
    "\n",
    "from sklearn.feature_extraction.text import TfidfVectorizer\n",
    "cv = TfidfVectorizer()\n",
    "X = cv.fit_transform(corpustf).toarray()"
   ]
  },
  {
   "cell_type": "code",
   "execution_count": 60,
   "id": "8a7d6a48",
   "metadata": {
    "scrolled": true
   },
   "outputs": [
    {
     "data": {
      "text/plain": [
       "array([[0.        , 0.        , 0.        , ..., 0.        , 0.        ,\n",
       "        0.        ],\n",
       "       [0.        , 0.        , 0.32348709, ..., 0.24491817, 0.28871979,\n",
       "        0.        ],\n",
       "       [0.        , 0.31622777, 0.        , ..., 0.        , 0.        ,\n",
       "        0.        ],\n",
       "       ...,\n",
       "       [0.        , 0.        , 0.        , ..., 0.        , 0.        ,\n",
       "        0.        ],\n",
       "       [0.        , 0.        , 0.        , ..., 0.        , 0.        ,\n",
       "        0.        ],\n",
       "       [0.        , 0.        , 0.        , ..., 0.        , 0.        ,\n",
       "        0.        ]])"
      ]
     },
     "execution_count": 60,
     "metadata": {},
     "output_type": "execute_result"
    }
   ],
   "source": [
    "X"
   ]
  },
  {
   "cell_type": "code",
   "execution_count": null,
   "id": "5b6c883e",
   "metadata": {},
   "outputs": [],
   "source": []
  }
 ],
 "metadata": {
  "kernelspec": {
   "display_name": "Python 3 (ipykernel)",
   "language": "python",
   "name": "python3"
  },
  "language_info": {
   "codemirror_mode": {
    "name": "ipython",
    "version": 3
   },
   "file_extension": ".py",
   "mimetype": "text/x-python",
   "name": "python",
   "nbconvert_exporter": "python",
   "pygments_lexer": "ipython3",
   "version": "3.9.7"
  }
 },
 "nbformat": 4,
 "nbformat_minor": 5
}
